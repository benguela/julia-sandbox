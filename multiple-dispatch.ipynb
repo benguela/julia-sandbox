{
 "cells": [
  {
   "cell_type": "markdown",
   "metadata": {},
   "source": [
    "# What makes Julia fast?\n",
    "\n",
    "## Multiple Dispatch"
   ]
  },
  {
   "cell_type": "markdown",
   "metadata": {},
   "source": [
    "```\n",
    "function sort(x::Array{String, 1})\n",
    "    ...\n",
    "end\n",
    "\n",
    "function sort(x::Array{Int, 1})\n",
    "    ...\n",
    "end\n",
    "\n",
    "function sort(x::Array{Bool, 1})\n",
    "    ...\n",
    "end\n",
    "```"
   ]
  },
  {
   "cell_type": "markdown",
   "metadata": {},
   "source": [
    "We need a function, f, to square its input and then compute its value mod 4. Assume speed is important.\n",
    "\n",
    "We always need f to output an integer, but its input, x, can be a String, Float64, or Int64, and we won’t know the type of x until runtime."
   ]
  },
  {
   "cell_type": "code",
   "execution_count": 12,
   "metadata": {},
   "outputs": [
    {
     "data": {
      "text/plain": [
       "f (generic function with 3 methods)"
      ]
     },
     "execution_count": 12,
     "metadata": {},
     "output_type": "execute_result"
    }
   ],
   "source": [
    "f(x::Int64) = x^2 % 4\n",
    "f(x::Float64) = f(ceil(Int64, x))\n",
    "f(x::String) = f(parse(Float64, x))"
   ]
  },
  {
   "cell_type": "code",
   "execution_count": 26,
   "metadata": {},
   "outputs": [
    {
     "name": "stdout",
     "output_type": "stream",
     "text": [
      "Dispatch Speed\n",
      "  0.097743 seconds\n"
     ]
    }
   ],
   "source": [
    "function applytodata(array)\n",
    "    for a in array\n",
    "        f(a)\n",
    "    end\n",
    "end;\n",
    "\n",
    "array = [s for i=1:1000000 for s in [\"5.5\",6,5.5]]\n",
    "\n",
    "applytodata(array);\n",
    "\n",
    "println(\"Dispatch Speed\")\n",
    "@time applytodata(array);"
   ]
  },
  {
   "cell_type": "markdown",
   "metadata": {},
   "source": [
    "## Compiler Efficiency\n",
    "\n",
    "The compiler translates dispatched functions into extremely efficient LLVM code, optimized for the each specific type. In fact, the Julia compiler will even remove lines of code for you "
   ]
  },
  {
   "cell_type": "code",
   "execution_count": 29,
   "metadata": {},
   "outputs": [
    {
     "data": {
      "text/plain": [
       "tentimes (generic function with 2 methods)"
      ]
     },
     "execution_count": 29,
     "metadata": {},
     "output_type": "execute_result"
    }
   ],
   "source": [
    "function bigger_floats(x::Real)\n",
    "    return tentimes(x)\n",
    "end\n",
    "tentimes(x::AbstractFloat) = 10.0x\n",
    "tentimes(x::Real) = false"
   ]
  },
  {
   "cell_type": "code",
   "execution_count": 30,
   "metadata": {},
   "outputs": [
    {
     "name": "stdout",
     "output_type": "stream",
     "text": [
      "\n",
      ";  @ In[29]:1 within `bigger_floats'\n",
      "define double @julia_bigger_floats_1709(double) {\n",
      "top:\n",
      ";  @ In[29]:2 within `bigger_floats'\n",
      "; ┌ @ In[29]:4 within `tentimes'\n",
      "; │┌ @ float.jl:405 within `*'\n",
      "    %1 = fmul double %0, 1.000000e+01\n",
      "; └└\n",
      "  ret double %1\n",
      "}\n"
     ]
    }
   ],
   "source": [
    "@code_llvm bigger_floats(10.0)"
   ]
  },
  {
   "cell_type": "code",
   "execution_count": 32,
   "metadata": {},
   "outputs": [
    {
     "name": "stdout",
     "output_type": "stream",
     "text": [
      "\n",
      ";  @ In[29]:1 within `bigger_floats'\n",
      "define i8 @julia_bigger_floats_1712(i64) {\n",
      "top:\n",
      ";  @ In[29]:2 within `bigger_floats'\n",
      "  ret i8 0\n",
      "}\n"
     ]
    }
   ],
   "source": [
    "@code_llvm bigger_floats(1)"
   ]
  },
  {
   "cell_type": "markdown",
   "metadata": {},
   "source": [
    "## Another example\n",
    "\n",
    "Write a program to count the number of lines of code in a file"
   ]
  },
  {
   "cell_type": "markdown",
   "metadata": {},
   "source": [
    "```\n",
    "def countlines(fname):\n",
    "    fstream = open(fname)\n",
    "    num_lines = len(fstream.readlines())\n",
    "    fstream.close()\n",
    "    return num_lines\n",
    "```"
   ]
  },
  {
   "cell_type": "markdown",
   "metadata": {},
   "source": [
    "```\n",
    "function countlines(fname::String)\n",
    "    fstream = open(fname)\n",
    "    num_lines = length(readlines(fstream))\n",
    "    close(fstream)\n",
    "    return num_lines\n",
    "end\n",
    "```"
   ]
  },
  {
   "cell_type": "markdown",
   "metadata": {},
   "source": [
    "Modify this function to handle a single file, a list of files, and have the capacity to filter files by extension."
   ]
  },
  {
   "cell_type": "markdown",
   "metadata": {},
   "source": [
    "### Python\n",
    "\n",
    "```\n",
    "def countlines(*args):\n",
    "    if len(args) == 1:\n",
    "        files = args[0]\n",
    "        if isinstance(files, list):\n",
    "            return sum([filelines(f) for f in files])\n",
    "        if isinstance(files, str):\n",
    "            return filelines(files)\n",
    "        else:\n",
    "            raise Exception(\"Unsupported data format\")\n",
    "    if len(args) == 2:\n",
    "        files, ext = args\n",
    "        if isinstance(files, list):\n",
    "            filtered = [f for f in files if f.endswith(ext)]\n",
    "            return sum([filelines(f) for f in filtered])\n",
    "        if isinstance(files, str):\n",
    "            if files.endswith(ext):\n",
    "                return filelines(files)\n",
    "            else:\n",
    "                return 0\n",
    "        else:\n",
    "            raise Exception(\"Unsupported data format\")\n",
    "    else:\n",
    "        raise Exception(\"Unsupported data format\")\n",
    "        \n",
    "def filelines(file):\n",
    "    fstream = open(fname)\n",
    "    num_lines = len(fstream.readlines())\n",
    "    fstream.close()\n",
    "    return num_lines\n",
    "```"
   ]
  },
  {
   "cell_type": "markdown",
   "metadata": {},
   "source": [
    "### Julia\n",
    "\n",
    "```\n",
    "function countlines(fname::String)\n",
    "    fstream = open(fname)\n",
    "    num_lines = length(readlines(fstream))\n",
    "    close(fstream)\n",
    "    return num_lines\n",
    "end\n",
    "\n",
    "function countlines(files::Array{String, 1})\n",
    "    return sum(map(countlines, files))\n",
    "end\n",
    "\n",
    "function countlines(files::Array{String, 1}, ext::String)\n",
    "    filtered = filter(x->endswith(x, ext), files)\n",
    "    return countlines(filtered) \n",
    "end\n",
    "\n",
    "function countlines(file::String, ext::String)\n",
    "    return endswith(file, ext) ? countlines(file) : 0\n",
    "end\n",
    "```"
   ]
  },
  {
   "cell_type": "code",
   "execution_count": 1,
   "metadata": {},
   "outputs": [],
   "source": [
    "struct MyStruct{T} end"
   ]
  },
  {
   "cell_type": "code",
   "execution_count": 2,
   "metadata": {},
   "outputs": [
    {
     "data": {
      "text/plain": [
       "f (generic function with 3 methods)"
      ]
     },
     "execution_count": 2,
     "metadata": {},
     "output_type": "execute_result"
    }
   ],
   "source": [
    "function f(s::MyStruct{1}) println(\"f1\") end\n",
    "function f(s::MyStruct{2}) println(\"f2\") end\n",
    "function f(s::MyStruct) println(\"f3\") end"
   ]
  },
  {
   "cell_type": "code",
   "execution_count": 3,
   "metadata": {},
   "outputs": [
    {
     "name": "stdout",
     "output_type": "stream",
     "text": [
      "f1\n",
      "f2\n",
      "f3\n"
     ]
    }
   ],
   "source": [
    "f(MyStruct{1}())\n",
    "f(MyStruct{2}())\n",
    "f(MyStruct{3}())"
   ]
  },
  {
   "cell_type": "code",
   "execution_count": 8,
   "metadata": {},
   "outputs": [
    {
     "name": "stdout",
     "output_type": "stream",
     "text": [
      "f2\n"
     ]
    }
   ],
   "source": [
    "x = 2\n",
    "f(MyStruct{x}())"
   ]
  }
 ],
 "metadata": {
  "kernelspec": {
   "display_name": "Julia 1.5.0",
   "language": "julia",
   "name": "julia-1.5"
  },
  "language_info": {
   "file_extension": ".jl",
   "mimetype": "application/julia",
   "name": "julia",
   "version": "1.5.0"
  }
 },
 "nbformat": 4,
 "nbformat_minor": 2
}
